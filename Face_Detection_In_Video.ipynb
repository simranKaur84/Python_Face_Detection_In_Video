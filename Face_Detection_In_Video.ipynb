{
 "cells": [
  {
   "cell_type": "markdown",
   "metadata": {},
   "source": [
    "##  Face detection in real-time"
   ]
  },
  {
   "cell_type": "code",
   "execution_count": 1,
   "metadata": {},
   "outputs": [],
   "source": [
    "# We are going to use camera stream for detecting the faces in real-time"
   ]
  },
  {
   "cell_type": "code",
   "execution_count": null,
   "metadata": {},
   "outputs": [],
   "source": [
    "import cv2\n",
    "\n",
    "# Step-1 : we should have the trined data for the model\n",
    "trained_face_data = cv2.CascadeClassifier('haarcascade_frontalface_default.xml')\n",
    "\n",
    "# Step-2 : we should capture the real-time faces or video from the web camera.\n",
    "# Putting the zero in VideoCapture() means it picks up the default camera of your device.\n",
    "webcam = cv2.VideoCapture(0)\n",
    "\n",
    "# Step-3 : Iterate forever over frames\n",
    "while True:\n",
    "    \n",
    "    # Step-4 : read the current frame from the webcam.\n",
    "    successful_frame_read, frame = webcam.read()\n",
    "    \n",
    "    # Step-5 : Grayscale the current frame that we read\n",
    "    grayscaled_img = cv2.cvtColor(frame, cv2.COLOR_BGR2GRAY)\n",
    "    \n",
    "    # Step-6 : we should now detect the face coordinates in the frame and then draw the rectangle.\n",
    "    face_coordinates = trained_face_data.detectMultiScale(grayscaled_img)\n",
    "    \n",
    "    # Step-7 : Now we should draw the rectangle over the face after detection.\n",
    "    for(x, y, w, h) in face_coordinates:\n",
    "        cv2.rectangle(frame, (x, y), (x + w, y + h), (0, 255, 0), 2)\n",
    "    \n",
    "    # Step-7: name the frame where your video or image will be shown.\n",
    "    cv2.imshow('Real-time face detection', frame)\n",
    "    \n",
    "    # Step-8: waitKey() function is used for the key to press and then the image will move.\n",
    "    cv2.waitKey(1)\n"
   ]
  },
  {
   "cell_type": "code",
   "execution_count": null,
   "metadata": {},
   "outputs": [],
   "source": []
  }
 ],
 "metadata": {
  "kernelspec": {
   "display_name": "Python 3",
   "language": "python",
   "name": "python3"
  },
  "language_info": {
   "codemirror_mode": {
    "name": "ipython",
    "version": 3
   },
   "file_extension": ".py",
   "mimetype": "text/x-python",
   "name": "python",
   "nbconvert_exporter": "python",
   "pygments_lexer": "ipython3",
   "version": "3.8.5"
  }
 },
 "nbformat": 4,
 "nbformat_minor": 4
}
